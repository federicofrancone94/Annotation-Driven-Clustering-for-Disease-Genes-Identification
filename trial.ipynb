{
 "cells": [
  {
   "cell_type": "code",
   "execution_count": null,
   "metadata": {},
   "outputs": [],
   "source": [
    "import pandas as pd\n",
    "import seaborn as sns\n",
    "import numpy as np\n",
    "import matplotlib.pyplot as plt\n",
    "%matplotlib inline\n",
    "import math\n",
    "import os\n",
    "from sklearn.cluster import KMeans"
   ]
  },
  {
   "cell_type": "markdown",
   "metadata": {},
   "source": [
    "## Defining functions"
   ]
  },
  {
   "cell_type": "code",
   "execution_count": null,
   "metadata": {},
   "outputs": [],
   "source": [
    "def lunghezza_max (d):  \n",
    "    lunghezza_max=0\n",
    "    for lista in d.values():\n",
    "        if len(lista)> lunghezza_max:\n",
    "            lunghezza_max= len(lista)\n",
    "    return lunghezza_max\n",
    "\n",
    "\n",
    "def completa_Nan (d):  \n",
    "    for lista in d.values():\n",
    "        for i in range(0, lunghezza_max(d) - len(lista)):\n",
    "            lista.append(np.NAN)\n",
    "            \n",
    "def trova_chiave_da(dizionario,simbolo):  \n",
    "    for key in dizionario:\n",
    "        if dizionario[key]== simbolo:\n",
    "            return key\n",
    "        \n",
    "        \n",
    "def campione_random (diz_vuoto, n_campione):\n",
    "    lista_sample_n= np.random.choice(lista_idgeni, size=n_campione, replace=False)\n",
    "    for idgene in lista_sample_n:\n",
    "        diz_vuoto[idgene]= annotazioni_pulito_id[idgene]\n",
    "    return diz_vuoto\n",
    "\n",
    "\n",
    "def count_campione_geni (dizio_geni, dizio_count):\n",
    "    for lista_funzioni in dizio_geni.values():\n",
    "        for funzione in lista_funzioni:\n",
    "            if funzione not in dizio_count:\n",
    "                dizio_count[funzione]=1\n",
    "            else:\n",
    "                dizio_count[funzione]+=1\n",
    "    return dizio_count\n",
    "\n",
    "\n",
    "def tabella_da_diz (diz_count_annotazioni):\n",
    "    series_annotaz_campione= pd.Series(diz_count_annotazioni)  \n",
    "    valori_descrescenti= series_annotaz_campione.sort_values(ascending=False)\n",
    "    tab_funzioni_random= pd.DataFrame(valori_descrescenti)\n",
    "    tab_funzioni_random.columns=['in sample 1']\n",
    "    return tab_funzioni_random\n",
    "\n",
    "\n",
    "def colonna_random (diz_vuoto, dizio_count, n_campione):\n",
    "    lista_sample_n= np.random.choice(lista_idgeni, size=n_campione, replace=False)\n",
    "    for idgene in lista_sample_n:\n",
    "        diz_vuoto[idgene]= annotazioni_pulito_id[idgene]\n",
    "    for lista_funzioni in diz_vuoto.values():\n",
    "        for funzione in lista_funzioni:\n",
    "            if funzione not in dizio_count:\n",
    "                dizio_count[funzione]=1\n",
    "            else:\n",
    "                dizio_count[funzione]+=1\n",
    "    series_annotaz_campione= pd.Series(dizio_count)  \n",
    "    valori_descrescenti= series_annotaz_campione.sort_values(ascending=False)\n",
    "    tab_funzioni_random= pd.DataFrame(valori_descrescenti)\n",
    "    tab_funzioni_random.columns= ['rand sample']\n",
    "    return tab_funzioni_random\n",
    "\n",
    "\n",
    "\n",
    "def aggiungi_colonna(dataframe, nuova_colonna):\n",
    "    dataframe= dataframe.join(nuova_colonna)  #.sort_values(by= 'n occorrenze funzione in natdisease', ascending=False)\n",
    "    return dataframe\n",
    "\n",
    "\n",
    "def diz_annotazioni_da_lista (diz_vuoto, lista_di_geni, dizio_count, titolo_colonna):\n",
    "    for idgene in lista_di_geni:\n",
    "        if idgene in annotazioni_pulito_id:\n",
    "            diz_vuoto[idgene]= annotazioni_pulito_id[idgene]\n",
    "        else:\n",
    "            try:\n",
    "                if idgene not in geni_sconosciuti:\n",
    "                    geni_sconosciuti.append(int(idgene))\n",
    "            except:\n",
    "                pass\n",
    "                \n",
    "    for lista_funzioni in diz_vuoto.values():\n",
    "        for funzione in lista_funzioni:\n",
    "            if funzione not in dizio_count:\n",
    "                dizio_count[funzione]=1\n",
    "            else:\n",
    "                dizio_count[funzione]+=1\n",
    "    series_annotaz_campione= pd.Series(dizio_count)  \n",
    "    valori_descrescenti= series_annotaz_campione.sort_values(ascending=False)\n",
    "    tab_funzioni_random= pd.DataFrame(valori_descrescenti)\n",
    "    tab_funzioni_random.columns=[titolo_colonna]\n",
    "    return tab_funzioni_random\n",
    "\n",
    "def funzioni_da_IDgene(geneid): \n",
    "    simbolo= idgene_simbolo[geneid]\n",
    "    funzioni= annotazioni_pulito[simbolo]\n",
    "    return simbolo, funzioni\n",
    "\n",
    "\n",
    "def colonna_random_mod (diz_vuoto, dizio_count, n_campione, titolo_colonna):\n",
    "    lista_sample_n= np.random.choice(filtro_seeds_carboidrati, size=n_campione, replace=False)\n",
    "    for idgene in lista_sample_n:\n",
    "        if idgene in annotazioni_pulito_id.keys():\n",
    "            diz_vuoto[idgene]= annotazioni_pulito_id[idgene]\n",
    "    for lista_funzioni in diz_vuoto.values():\n",
    "        for funzione in lista_funzioni:\n",
    "            if funzione not in dizio_count:\n",
    "                dizio_count[funzione]=1\n",
    "            else:\n",
    "                dizio_count[funzione]+=1\n",
    "    series_annotaz_campione= pd.Series(dizio_count)  \n",
    "    valori_descrescenti= series_annotaz_campione.sort_values(ascending=False)\n",
    "    tab_funzioni_random= pd.DataFrame(valori_descrescenti)\n",
    "    tab_funzioni_random.columns= [titolo_colonna]\n",
    "    return tab_funzioni_random\n",
    "\n",
    "def tabella_random_id (diz_vuoto, dizio_count, size_campione, numero_campioni, lista_geni_filtrata):\n",
    "    for i in range(1,numero_campioni+1):  \n",
    "        diz_vuoto={}\n",
    "        dizio_count={}\n",
    "        lista_sample_n= np.random.choice(lista_geni_filtrata, size= size_campione, replace=False)  \n",
    "        for idgene in lista_sample_n:\n",
    "            if idgene in annotazioni_pulito_id.keys():\n",
    "                diz_vuoto[idgene]= annotazioni_pulito_id[idgene]\n",
    "        for lista_funzioni in diz_vuoto.values():\n",
    "            for funzione in lista_funzioni:\n",
    "                if funzione not in dizio_count:\n",
    "                    dizio_count[funzione]=1\n",
    "                else:\n",
    "                    dizio_count[funzione]+=1\n",
    "        series_annotaz_campione= pd.Series(dizio_count)  \n",
    "        valori_descrescenti= series_annotaz_campione.sort_values(ascending=False)\n",
    "        if i==1:\n",
    "            col_funzioni_random= pd.DataFrame(valori_descrescenti)\n",
    "            col_funzioni_random.columns= ['random sample 1']\n",
    "        elif i>1:\n",
    "            tab_funzioni_random= pd.DataFrame(valori_descrescenti)\n",
    "            tab_funzioni_random.columns= ['random sample ' + str(i)]\n",
    "            col_funzioni_random= col_funzioni_random.join(tab_funzioni_random)\n",
    "    return col_funzioni_random\n",
    "\n",
    "def media_tab_random (tab_campioni_random, num_campioni_usati):\n",
    "    media_campioni_random= pd.DataFrame(tab_campioni_random).mean(axis=1)\n",
    "    media_campioni_random.sort_values(ascending=False,inplace=True)\n",
    "    media_campioni_random = pd.DataFrame(media_campioni_random)\n",
    "    media_campioni_random.columns= ['media count annotazioni su ' + str(num_campioni_usati) +' campioni random']\n",
    "    return media_campioni_random\n",
    "\n",
    "def lista_n_annotazioni ( tab_media_random, tab_annot_malattia, n1, n2): \n",
    "    df= tab_annot_malattia.join(tab_media_random)\n",
    "    df.fillna(0,inplace=True)\n",
    "    top_10_malattia= list(df.iloc[0:n1].index)\n",
    "    df2= tab_media_random.join(tab_annot_malattia)\n",
    "    df2.fillna(0,inplace=True)\n",
    "    top_10_random= list(df2.iloc[0:n2].index)\n",
    "    \n",
    "    return top_10_malattia + top_10_random\n",
    "\n",
    "\n",
    "def geni_con_top_annotazioni (nome_lista_geni, lista_top_annotazioni):\n",
    "    nome_lista_geni= []\n",
    "    for gene in annotazioni_pulito_id:  \n",
    "        for annotazione in lista_top_annotazioni:\n",
    "            if annotazione in annotazioni_pulito_id[gene] and gene not in nome_lista_geni:\n",
    "                nome_lista_geni.append(gene)\n",
    "    return nome_lista_geni\n",
    "\n",
    "def simboli_con_top_annotazioni (nome_lista_geni, lista_top_annotazioni):\n",
    "    nome_lista_geni= []\n",
    "    for gene in annotazioni_pulito:\n",
    "        for annotazione in lista_top_annotazioni:\n",
    "            if annotazione in annotazioni_pulito[gene] and gene not in nome_lista_geni:\n",
    "                nome_lista_geni.append(gene)\n",
    "    return nome_lista_geni\n",
    "\n",
    "def dizio_vettori_incidenza (dizio_vuoto_incidenza, nome_lista_geni, lista_top_annotazioni):\n",
    "    for gene in nome_lista_geni:\n",
    "        for annot in lista_top_annotazioni:\n",
    "            if gene not in dizio_vuoto_incidenza:\n",
    "                if annot in annotazioni_pulito_id[gene]:\n",
    "                    dizio_vuoto_incidenza[gene]=[1]\n",
    "                else:\n",
    "                    dizio_vuoto_incidenza[gene]= [0]\n",
    "            else:\n",
    "                if annot in annotazioni_pulito_id[gene]:\n",
    "                    dizio_vuoto_incidenza[gene].append(1)\n",
    "                else:\n",
    "                    dizio_vuoto_incidenza[gene].append(0)\n",
    "    matrice_incidenza= pd.DataFrame(dizio_vuoto_incidenza).transpose()\n",
    "    matrice_incidenza.columns= lista_top_annotazioni\n",
    "    return matrice_incidenza\n",
    "\n",
    "def quanti_seeds_in_cluster_g1g2(cluster_map, g1,g2): \n",
    "    conta_seeds_cluster0=0\n",
    "    conta_seeds_cluster1=0\n",
    "    seeds_cluster0= list(cluster_map[cluster_map['cluster']==g1]['idgene'])\n",
    "    seeds_cluster1= list(cluster_map[cluster_map['cluster']==g2]['idgene'])\n",
    "    for gene in seeds_cluster0:\n",
    "        if gene in lista_seeds_unici:\n",
    "            conta_seeds_cluster0 +=1\n",
    "    for gene in seeds_cluster1:\n",
    "        if gene in lista_seeds_unici:\n",
    "            conta_seeds_cluster1 +=1\n",
    "    return print('il numero di seeds nel cluster 0 è: ', conta_seeds_cluster0, 'su', len(seeds_cluster0), 'ovvero il ',  \n",
    "                 conta_seeds_cluster0*100/len(seeds_cluster0),\n",
    "                 '%, \\n mentre nel cluster 1: ', conta_seeds_cluster1, 'su', len(seeds_cluster1),\n",
    "                 'ovvero il ', conta_seeds_cluster1*100/len(seeds_cluster1), '%' )\n",
    "\n",
    "def togli_annot_ridondanti(lista_annotazioni):\n",
    "    copia= []\n",
    "    for an in lista_annotazioni:\n",
    "        if an not in copia:\n",
    "            copia.append(an)\n",
    "        else: \n",
    "            print('annot ridondante: ',an)\n",
    "    lista_annotazioni= copia\n",
    "    return lista_annotazioni\n",
    "\n",
    "def tabella_random_pathways (diz_vuoto, dizio_count, size_campione, numero_campioni, lista_geni_filtrata):\n",
    "    for i in range(1,numero_campioni+1):  \n",
    "        diz_vuoto={}\n",
    "        dizio_count={}\n",
    "        lista_sample_n= np.random.choice(lista_geni_filtrata, size= size_campione, replace=False)  \n",
    "        for simbologene in lista_sample_n:\n",
    "            if simbologene in pathways_pulito_simbolo.keys():\n",
    "                diz_vuoto[simbologene]= pathways_pulito_simbolo[simbologene]\n",
    "        for lista_pathways in diz_vuoto.values():\n",
    "            for pathway in lista_pathways:\n",
    "                if pathway not in dizio_count:\n",
    "                    dizio_count[pathway]=1\n",
    "                else:\n",
    "                    dizio_count[pathway]+=1\n",
    "        series_annotaz_campione= pd.Series(dizio_count)  \n",
    "        valori_descrescenti= series_annotaz_campione.sort_values(ascending=False)\n",
    "        if i==1:\n",
    "            col_funzioni_random= pd.DataFrame(valori_descrescenti)\n",
    "            col_funzioni_random.columns= ['random sample 1']\n",
    "        elif i>1:\n",
    "            tab_funzioni_random= pd.DataFrame(valori_descrescenti)\n",
    "            tab_funzioni_random.columns= ['random sample ' + str(i)]\n",
    "            col_funzioni_random= col_funzioni_random.join(tab_funzioni_random)\n",
    "    return col_funzioni_random\n",
    "\n",
    "def media_tab_random_pathways (tab_campioni_random, num_campioni_usati):\n",
    "    media_campioni_random= pd.DataFrame(tab_campioni_random).mean(axis=1)\n",
    "    media_campioni_random.sort_values(ascending=False,inplace=True)\n",
    "    media_campioni_random = pd.DataFrame(media_campioni_random)\n",
    "    media_campioni_random.columns= ['media count pathways su ' + str(num_campioni_usati) +' campioni random']\n",
    "    return media_campioni_random\n",
    "\n",
    "def geni_con_top_pathways (nome_lista_geni, lista_top_pathways): \n",
    "    nome_lista_geni= []\n",
    "    for genesimb in pathways_pulito_simbolo:\n",
    "        for pathway in lista_top_pathways:\n",
    "            if pathway in pathways_pulito_simbolo[genesimb] and genesimb not in nome_lista_geni:\n",
    "                nome_lista_geni.append(genesimb)\n",
    "    return nome_lista_geni\n",
    "\n",
    "def dizio_vettori_incidenza_pathways(dizio_vuoto_incidenza, nome_lista_geni, lista_top_pathways):\n",
    "    for gene_s in nome_lista_geni:\n",
    "        for pat in lista_top_pathways:\n",
    "            if gene_s not in dizio_vuoto_incidenza:\n",
    "                if pat in pathways_pulito_simbolo[gene_s]:\n",
    "                    dizio_vuoto_incidenza[gene_s]=[1]\n",
    "                else:\n",
    "                    dizio_vuoto_incidenza[gene_s]= [0]\n",
    "            else:\n",
    "                if pat in pathways_pulito_simbolo[gene_s]:\n",
    "                    dizio_vuoto_incidenza[gene_s].append(1)\n",
    "                else:\n",
    "                    dizio_vuoto_incidenza[gene_s].append(0)\n",
    "    matrice_incidenza= pd.DataFrame(dizio_vuoto_incidenza).transpose()\n",
    "    matrice_incidenza.columns= lista_top_pathways\n",
    "    return matrice_incidenza\n",
    "\n",
    "def quanti_in_cluster_g1g2(cluster_map, g1,g2): \n",
    "    conta_seeds_cluster0=0\n",
    "    conta_seeds_cluster1=0\n",
    "    seeds_cluster0= list(cluster_map[cluster_map['cluster']==g1]['idgene'])\n",
    "    seeds_cluster1= list(cluster_map[cluster_map['cluster']==g2]['idgene'])\n",
    "    for gene in seeds_cluster0:\n",
    "        if gene in lista_seeds_unici:\n",
    "            conta_seeds_cluster0 +=1\n",
    "    for gene in seeds_cluster1:\n",
    "        if gene in lista_seeds_unici:\n",
    "            conta_seeds_cluster1 +=1\n",
    "    return print('il numero di seeds nel cluster 0 è: ', conta_seeds_cluster0, 'su', len(seeds_cluster0), 'ovvero il ',  \n",
    "                 conta_seeds_cluster0*100/len(seeds_cluster0),\n",
    "                 '%, \\n mentre nel cluster 1: ', conta_seeds_cluster1, 'su', len(seeds_cluster1),\n",
    "                 'ovvero il ', conta_seeds_cluster1*100/len(seeds_cluster1), '%' )\n",
    "\n",
    "def quanti_in_cluster_g1g2_pat(cluster_map, g1,g2):\n",
    "    conta_seeds_cluster0=0\n",
    "    conta_seeds_cluster1=0\n",
    "    seeds_cluster0= list(cluster_map[cluster_map['cluster']==g1]['simbolo gene'])\n",
    "    seeds_cluster1= list(cluster_map[cluster_map['cluster']==g2]['simbolo gene'])\n",
    "    for gene in seeds_cluster0:\n",
    "        if gene in simbolo_idgene and simbolo_idgene[gene] in lista_seeds_unici:\n",
    "            conta_seeds_cluster0 +=1\n",
    "    for gene in seeds_cluster1:\n",
    "        if gene in simbolo_idgene and simbolo_idgene[gene] in lista_seeds_unici:\n",
    "            conta_seeds_cluster1 +=1\n",
    "    return print('il numero di seeds nel cluster 0 è: ', conta_seeds_cluster0, 'su', len(seeds_cluster0), 'ovvero il ',  \n",
    "                 conta_seeds_cluster0*100/len(seeds_cluster0),\n",
    "                 '%, \\n mentre nel cluster 1: ', conta_seeds_cluster1, 'su', len(seeds_cluster1),\n",
    "                 'ovvero il ', conta_seeds_cluster1*100/len(seeds_cluster1), '%' )\n",
    "\n",
    "\n",
    "def quanti_in_comune(clustermap1, clustermap2, clust1, clust2):\n",
    "    gruppo1 = clustermap1[clustermap1['cluster']== clust1]\n",
    "    gruppo2 = clustermap2[clustermap2['cluster']== clust2]\n",
    "    tot_comuni=0\n",
    "    seeds_comuni=0\n",
    "    seeds_scartati=0\n",
    "    l=[]\n",
    "    for gene in list(gruppo1['simbolo gene']):\n",
    "        if gene in list(gruppo2['simbolo gene']):\n",
    "            tot_comuni+=1\n",
    "            if gene in simbolo_idgene and simbolo_idgene[gene] in lista_seeds_unici:\n",
    "                seeds_comuni+=1\n",
    "        else:\n",
    "            l.append(gene)\n",
    "    for gene in l:\n",
    "        if gene in simbolo_idgene and simbolo_idgene[gene] in lista_seeds_unici:\n",
    "            seeds_scartati+=1\n",
    "    return 'i geni del gruppo1 sono: ', len(gruppo1), 'quelli del gruppo 2: ', len(gruppo2),'i tot in comune sono', tot_comuni,'in % ', tot_comuni*100/min(len(gruppo1),len(gruppo2)), 'quelli non: ',l, 'quelli seeds in comune', seeds_comuni,'quelli seeds scartati sono: ', seeds_scartati\n",
    "\n",
    "\n",
    "def quanti_in_comune_id(clustermap1, clustermap2, clust1, clust2):\n",
    "    gruppo1 = clustermap1[clustermap1['cluster']== clust1]\n",
    "    gruppo2 = clustermap2[clustermap2['cluster']== clust2]\n",
    "    tot_comuni=0\n",
    "    seeds_comuni=0\n",
    "    seeds_scartati=0\n",
    "    l=[]\n",
    "    for gene in list(gruppo1['idgene']):\n",
    "        if gene in list(gruppo2['idgene']):\n",
    "            tot_comuni+=1\n",
    "            if gene in lista_seeds_unici:\n",
    "                seeds_comuni+=1\n",
    "        else:\n",
    "            l.append(gene)\n",
    "    for gene in l:\n",
    "        if gene in lista_seeds_unici:\n",
    "            seeds_scartati+=1\n",
    "    return 'i geni del gruppo1 sono: ', len(gruppo1), 'quelli del gruppo 2: ', len(gruppo2),'i tot in comune sono', tot_comuni,'in % ', tot_comuni*100/min(len(gruppo1),len(gruppo2)), 'quelli non: ',l, 'quelli seeds in comune', seeds_comuni,'quelli seeds scartati sono: ', seeds_scartati\n",
    "\n",
    "\n",
    "def confronto_annot_patwh(cluster_annot, cluster_path, clust1, clust2):\n",
    "    gruppo1 = cluster_annot[cluster_annot['cluster']== clust1]\n",
    "    gruppo2 = cluster_path[cluster_path['cluster']== clust2]\n",
    "    tot_comuni=0\n",
    "    seeds_comuni=0\n",
    "    seeds_scartati=0\n",
    "    l=[]\n",
    "    for geneid in list(gruppo1['idgene']):\n",
    "        if geneid in idgene_simbolo:   \n",
    "            simb= idgene_simbolo[geneid]  \n",
    "            if simb in list(gruppo2['simbolo gene']):\n",
    "                tot_comuni+=1\n",
    "                if simb in simbolo_idgene and simbolo_idgene[simb] in lista_seeds_unici: \n",
    "                    seeds_comuni+=1     \n",
    "            else:\n",
    "                l.append(geneid)\n",
    "    for geneid in l:\n",
    "        if geneid in lista_seeds_unici:\n",
    "            seeds_scartati+=1\n",
    "    return 'i geni del gruppo1 sono: ', len(gruppo1), 'quelli del gruppo 2: ', len(gruppo2),'i tot in comune sono', tot_comuni,'in % ', tot_comuni*100/min(len(gruppo1),len(gruppo2)), 'quelli non: ', 'quelli seeds in comune', seeds_comuni,'quelli seeds scartati sono: ', seeds_scartati\n",
    "\n",
    "\n",
    "def resoconto_seeds_cluster(cluster_map, n_clusters, soglia):\n",
    "    for i in range(n_clusters):\n",
    "        rossi_malattia=0\n",
    "        rossi_tot=0\n",
    "        cluster_iesimo= cluster_map[cluster_map['cluster']==i]['idgene']\n",
    "        for gene in cluster_iesimo:\n",
    "            if gene in lista_seeds_unici:\n",
    "                rossi_tot+=1\n",
    "                if gene in geni_carboidrati:\n",
    "                    rossi_malattia+=1\n",
    "        if rossi_malattia>= soglia and len(cluster_iesimo)>0:\n",
    "            print(rossi_malattia, 'su', len (cluster_iesimo), 'e i rossi tot ', rossi_tot, ', il', \n",
    "             round(rossi_tot*100/len(cluster_iesimo),1), '%',i)\n",
    "       # else:\n",
    "           # print('cluster nullo')\n",
    "\n",
    "\n",
    "def tabella_random_simboli (diz_vuoto, dizio_count, size_campione, numero_campioni, lista_geni_filtrata):\n",
    "    for i in range(1,numero_campioni+1):  \n",
    "        diz_vuoto={}\n",
    "        dizio_count={}\n",
    "        lista_sample_n= np.random.choice(lista_geni_filtrata, size= size_campione, replace=False)  \n",
    "        for simbologene in lista_sample_n:\n",
    "            if simbologene in annotazioni_pulito.keys():\n",
    "                diz_vuoto[simbologene]= annotazioni_pulito[simbologene]\n",
    "        for lista_funzioni in diz_vuoto.values():\n",
    "            for funzione in lista_funzioni:\n",
    "                if funzione not in dizio_count:\n",
    "                    dizio_count[funzione]=1\n",
    "                else:\n",
    "                    dizio_count[funzione]+=1\n",
    "        series_annotaz_campione= pd.Series(dizio_count)  \n",
    "        valori_descrescenti= series_annotaz_campione.sort_values(ascending=False)\n",
    "        if i==1:\n",
    "            col_funzioni_random= pd.DataFrame(valori_descrescenti)\n",
    "            col_funzioni_random.columns= ['random sample 1']\n",
    "        elif i>1:\n",
    "            tab_funzioni_random= pd.DataFrame(valori_descrescenti)\n",
    "            tab_funzioni_random.columns= ['random sample ' + str(i)]\n",
    "            col_funzioni_random= col_funzioni_random.join(tab_funzioni_random)\n",
    "    return col_funzioni_random\n",
    "\n",
    "def mat_incidenza_annot_simboli (dizio_vuoto_incidenza, lista_simboli_geni, lista_top_annotazioni):\n",
    "    for gene_s in lista_simboli_geni:\n",
    "        for annot in lista_top_annotazioni:\n",
    "            if gene_s not in dizio_vuoto_incidenza:\n",
    "                if annot in annotazioni_pulito[gene_s]:\n",
    "                    dizio_vuoto_incidenza[gene_s]=[1]\n",
    "                else:\n",
    "                    dizio_vuoto_incidenza[gene_s]= [0]\n",
    "            else:\n",
    "                if annot in annotazioni_pulito[gene_s]:\n",
    "                    dizio_vuoto_incidenza[gene_s].append(1)\n",
    "                else:\n",
    "                    dizio_vuoto_incidenza[gene_s].append(0)\n",
    "    matrice_incidenza= pd.DataFrame(dizio_vuoto_incidenza).transpose()\n",
    "    matrice_incidenza.columns= lista_top_annotazioni\n",
    "    return matrice_incidenza\n",
    "\n",
    "def conta_simboli_in_lista(lista_geni_top, lista_seeds_o_malattia):\n",
    "    conta=0\n",
    "    for gene in lista_geni_top:\n",
    "        if ufficiale_simbolo_id[gene] in lista_seeds_o_malattia:\n",
    "            conta+=1\n",
    "    print('ci sono', conta,'seed su',len(lista_geni_top),'cioè il',round(conta*100/len(lista_geni_top),1),'%')\n",
    "\n",
    "def conta_id_in_lista(lista_idgeni_top, lista_seeds_o_malattia):\n",
    "    conta=0\n",
    "    for gene in lista_idgeni_top:\n",
    "        if gene in lista_seeds_o_malattia:\n",
    "            conta+=1\n",
    "    print('ci sono', conta,'seed su',len(lista_idgeni_top),'cioè il',round(conta*100/len(lista_idgeni_top),1),'%')\n",
    "\n",
    "def confronto_annot_path_13458_id(cluster_annot, cluster_path, clust1, clust2, lista_idgeni_malattia, lista_vuota_comuni):\n",
    "    gruppo1 = cluster_annot[cluster_annot['cluster']== clust1]\n",
    "    gruppo2 = cluster_path[cluster_path['cluster']== clust2]\n",
    "    tot_comuni=0\n",
    "    seeds_comuni=0\n",
    "    seeds_scartati=0\n",
    "    geni_malattia=0\n",
    "    for geneid in list(gruppo1['idgene']):\n",
    "        if geneid in idgene_simbolo:   \n",
    "            simb= idgene_simbolo[geneid]   \n",
    "            if simb in list(gruppo2['simbolo gene']):\n",
    "                tot_comuni+=1\n",
    "                lista_vuota_comuni.append(simb)\n",
    "                if simb in simbolo_idgene and simbolo_idgene[simb] in lista_seeds_unici: \n",
    "                    seeds_comuni+=1    \n",
    "                    if simb in simbolo_idgene and simbolo_idgene[simb] in lista_idgeni_malattia:\n",
    "                        geni_malattia+=1\n",
    "    return print('gruppo annot: ', len(gruppo1), ', gruppo path: ', len(gruppo2),\n",
    "                 '\\ntot geni comuni', tot_comuni,',in % ', tot_comuni*100/min(len(gruppo1),len(gruppo2)),\n",
    "                  '\\nquelli seeds in comune', seeds_comuni,'\\nquelli della malattia comuni: ', geni_malattia,\n",
    "                'lunghezza lista comuni è: ',len(lista_vuota_comuni))\n",
    "\n",
    "\n",
    "\n",
    "def confronto_ann_pat_ufficiale_17826(cluster_annot, cluster_path, clust1, clust2, lista_idgeni_malattia,lista_vuota_comuni):\n",
    "    gruppo1 = cluster_annot[cluster_annot['cluster']== clust1]\n",
    "    gruppo2 = cluster_path[cluster_path['cluster']== clust2]\n",
    "    tot_comuni=0\n",
    "    seeds_comuni=0\n",
    "    seeds_scartati=0\n",
    "    geni_malattia=0\n",
    "    for gene_simb in list(gruppo1['simbolo gene']):\n",
    "        if gene_simb in annotazioni_pulito:   \n",
    "            if gene_simb in list(gruppo2['simbolo gene']):\n",
    "                tot_comuni+=1\n",
    "                lista_vuota_comuni.append(gene_simb)\n",
    "                if gene_simb in simbolo_idgene and simbolo_idgene[gene_simb] in lista_seeds_unici: #tanto tutti i seeds hanno l'ID, stanno\n",
    "                    seeds_comuni+=1     # quindi in simbolo_idgene\n",
    "                    if gene_simb in simbolo_idgene and simbolo_idgene[gene_simb] in lista_idgeni_malattia:\n",
    "                        geni_malattia+=1\n",
    "    return print('gruppo annot: ', len(gruppo1), ', gruppo path: ', len(gruppo2),\n",
    "                 '\\ntot geni comuni', tot_comuni,',in % ', tot_comuni*100/min(len(gruppo1),len(gruppo2)),\n",
    "                  '\\nquelli seeds in comune', seeds_comuni,'\\nquelli della malattia comuni: ', geni_malattia,\n",
    "                  '\\nlista geni comuni è:',len(lista_vuota_comuni))\n",
    "\n",
    "def campione_simboli_random (diz_vuoto, n_campione, filtro_simboli):\n",
    "    lista_sample_n= np.random.choice(filtro_simboli, size=n_campione, replace=False)\n",
    "    for simb in lista_sample_n:\n",
    "        if simb in annotazioni_pulito:\n",
    "            diz_vuoto[simb]= annotazioni_pulito[simb]\n",
    "    return diz_vuoto\n",
    "\n",
    "def togli_nan_da_lista_simboli (lista_simboli):\n",
    "    for elemento in lista_simboli:\n",
    "        if type(elemento)== float and math.isnan(elemento)==True:\n",
    "            lista_simboli.remove(elemento)\n",
    "    return lista_simboli\n",
    "\n",
    "def separa_seed_tra_comuni (non_malattia_comuni, simboli_carbo_comuni, idgene_carbo_comuni, tot_simb_comuni):\n",
    "    for simbolo in tot_simb_comuni:\n",
    "        if simbolo in simboli_geni_carboidrati:\n",
    "            simboli_carbo_comuni.append(simbolo)\n",
    "            idgene_carbo_comuni.append(simbolo_idgene[simbolo])\n",
    "        else:\n",
    "            non_malattia_comuni.append(simbolo)\n",
    "    return non_malattia_comuni, simboli_carbo_comuni, idgene_carbo_comuni\n",
    "\n",
    "def geni_adiacenti (lista_vuota_adiacenti, id_carbo_comuni):\n",
    "    for nodo in id_carbo_comuni:\n",
    "        for adiacente in interattoma_completo[nodo]:\n",
    "            if adiacente not in lista_vuota_adiacenti:\n",
    "                lista_vuota_adiacenti.append(adiacente)\n",
    "    return((lista_vuota_adiacenti))\n",
    "\n",
    "\n",
    "def resoconto_seeds_cluster(cluster_map, n_clusters, soglia, geni_malattia):\n",
    "    for i in range(n_clusters):\n",
    "        rossi_malattia=0\n",
    "        rossi_tot=0\n",
    "        cluster_iesimo= cluster_map[cluster_map['cluster']==i]['idgene']\n",
    "        for gene in cluster_iesimo:\n",
    "            if gene in lista_seeds_unici:\n",
    "                rossi_tot+=1\n",
    "                if gene in geni_malattia:\n",
    "                    rossi_malattia+=1\n",
    "        if rossi_malattia>= soglia and len(cluster_iesimo)>0:\n",
    "            print(rossi_malattia, 'su', len (cluster_iesimo), 'e i rossi tot ', rossi_tot, ', il', \n",
    "             round(rossi_tot*100/len(cluster_iesimo),1), '%',i)\n",
    "       # else:\n",
    "           # print('cluster nullo')\n",
    "        \n",
    "def resoconto_seeds_cluster_pat(cluster_map, n_clusters, soglia, geni_malattia):\n",
    "    for i in range(n_clusters):\n",
    "        rossi_malattia=0\n",
    "        rossi_tot=0\n",
    "        cluster_iesimo= cluster_map[cluster_map['cluster']==i]['simbolo gene']\n",
    "        for gene in cluster_iesimo:\n",
    "            if ufficiale_simbolo_id[gene] in lista_seeds_unici:\n",
    "                rossi_tot+=1\n",
    "                if ufficiale_simbolo_id[gene] in geni_malattia:\n",
    "                    rossi_malattia+=1\n",
    "        if rossi_malattia>= soglia and len(cluster_iesimo)>0:\n",
    "            print(rossi_malattia, 'su', len (cluster_iesimo), 'e i rossi tot ', rossi_tot, ', il', \n",
    "             round(rossi_tot*100/len(cluster_iesimo),1), '%',i)\n",
    "        #else:\n",
    "            #print('cluster nullo')\n",
    "            \n",
    "            \n",
    "            \n",
    "def campione_simboli_random (diz_vuoto, n_campione, filtro_simboli):\n",
    "    lista_sample_n= np.random.choice(filtro_simboli, size=n_campione, replace=False)\n",
    "    for simb in lista_sample_n:\n",
    "        if simb in annotazioni_pulito:\n",
    "            diz_vuoto[simb]= annotazioni_pulito[simb]\n",
    "    return diz_vuoto\n",
    "\n",
    "def togli_nan_da_lista_simboli (lista_simboli):\n",
    "    for elemento in lista_simboli:\n",
    "        if type(elemento)== float and math.isnan(elemento)==True:\n",
    "            lista_simboli.remove(elemento)\n",
    "    return lista_simboli\n",
    "\n",
    "def separa_seed_tra_comuni (non_malattia_comuni, simboli_carbo_comuni, idgene_carbo_comuni, tot_simb_comuni):\n",
    "    for simbolo in tot_simb_comuni:\n",
    "        if simbolo in simboli_geni_carboidrati:\n",
    "            simboli_carbo_comuni.append(simbolo)\n",
    "            idgene_carbo_comuni.append(simbolo_idgene[simbolo])\n",
    "        else:\n",
    "            non_malattia_comuni.append(simbolo)\n",
    "    return non_malattia_comuni, simboli_carbo_comuni, idgene_carbo_comuni\n",
    "\n",
    "def geni_adiacenti (lista_vuota_adiacenti, id_carbo_comuni):\n",
    "    for nodo in id_carbo_comuni:\n",
    "        for adiacente in interattoma_completo[nodo]:\n",
    "            if adiacente not in lista_vuota_adiacenti:\n",
    "                lista_vuota_adiacenti.append(adiacente)\n",
    "    return((lista_vuota_adiacenti))\n"
   ]
  },
  {
   "cell_type": "code",
   "execution_count": null,
   "metadata": {},
   "outputs": [],
   "source": [
    "#### Functions for comparison after the clustering\n",
    "\n",
    "def confronto_13_bests(best_group_ann, best_group_pat, lista_idgeni_malattia, lista_vuota_comuni):\n",
    "    tot_comuni=0\n",
    "    seeds_comuni=0\n",
    "    seeds_scartati=0\n",
    "    geni_malattia=0\n",
    "    for geneid in best_group_ann:\n",
    "        if geneid in idgene_simbolo:   \n",
    "            if simb in best_group_pat:\n",
    "                tot_comuni+=1\n",
    "                lista_vuota_comuni.append(simb)\n",
    "                if simb in simbolo_idgene and simbolo_idgene[simb] in lista_seeds_unici: \n",
    "                    if simb in simbolo_idgene and simbolo_idgene[simb] in lista_idgeni_malattia:\n",
    "                        geni_malattia+=1\n",
    "    return print('gruppo annot: ', len(best_group_ann), ', gruppo path: ', len(best_group_pat),\n",
    "                 '\\ntot geni comuni', tot_comuni,',in % ', tot_comuni*100/min(len(best_group_ann),len(best_group_pat)),\n",
    "                  '\\nquelli seeds in comune', seeds_comuni,'\\nquelli della malattia comuni: ', geni_malattia,\n",
    "                'lunghezza lista comuni è: ',len(lista_vuota_comuni))\n",
    "\n",
    "def rapporto_idseeds_gruppo(lista_idgeni_top, lista_seeds_o_malattia):\n",
    "    conta=0\n",
    "    for gene in lista_idgeni_top:\n",
    "        if gene in lista_seeds_o_malattia:\n",
    "            conta+=1\n",
    "    return round(conta*100/len(lista_idgeni_top),1)\n",
    "\n",
    "def rapporto_simbseeds_gruppo(lista_simb_top, lista_seeds_o_malattia):\n",
    "    conta=0\n",
    "    for gene in lista_simb_top:\n",
    "        if ufficiale_simbolo_id[gene] in lista_seeds_o_malattia:\n",
    "            conta+=1\n",
    "    return round(conta*100/len(lista_simb_top),1)\n",
    "\n",
    "def quanti_seed_totali(lista_idgeni_top, lista_seeds):\n",
    "    conta=0\n",
    "    for gene in lista_idgeni_top:\n",
    "        if gene in lista_seeds:\n",
    "            conta+=1\n",
    "    return conta\n",
    "\n",
    "def quanti_seed_simb_tot(lista_simb_top, lista_seeds):\n",
    "    conta=0\n",
    "    try:\n",
    "        for gene in lista_simb_top:\n",
    "            if ufficiale_simbolo_id[gene] in lista_seeds:\n",
    "                conta+=1\n",
    "    except KeyError:\n",
    "        pass\n",
    "    return conta\n",
    "\n",
    "def uff_trova_chiave_da(dizionario,valore): \n",
    "    for key in dizionario:\n",
    "        if dizionario[key]== valore:\n",
    "            return key\n",
    "\n",
    "def uff_resoconto_seeds_cluster(cluster_map, n_clusters, soglia, geni_malattia):\n",
    "    for i in range(n_clusters):\n",
    "        rossi_malattia=0\n",
    "        rossi_tot=0\n",
    "        cluster_iesimo= cluster_map[cluster_map['cluster']==i]['idgene']\n",
    "        for gene in cluster_iesimo:\n",
    "            if gene in lista_seeds_unici:\n",
    "                rossi_tot+=1\n",
    "                if gene in geni_malattia:\n",
    "                    rossi_malattia+=1\n",
    "        if rossi_malattia>= soglia and len(cluster_iesimo)>0:\n",
    "            print(rossi_malattia, 'su', len (cluster_iesimo), 'e i rossi tot ', rossi_tot, ', il', \n",
    "             round(rossi_tot*100/len(cluster_iesimo),1), '%',i)\n",
    "       # else:\n",
    "           # print('cluster nullo')"
   ]
  },
  {
   "cell_type": "markdown",
   "metadata": {},
   "source": [
    "## Data Cleaning and Preprocessing"
   ]
  },
  {
   "cell_type": "markdown",
   "metadata": {},
   "source": [
    "#### Interactom dataset"
   ]
  },
  {
   "cell_type": "code",
   "execution_count": null,
   "metadata": {},
   "outputs": [],
   "source": [
    "os.chdir('C:\\\\Users\\\\feder\\\\jupyter\\\\tesi network medicine')"
   ]
  },
  {
   "cell_type": "code",
   "execution_count": null,
   "metadata": {},
   "outputs": [],
   "source": [
    "#os.getcwd()\n",
    "interattoma= pd.read_table('Interactome.TSV')\n",
    "interattoma.head(2)"
   ]
  },
  {
   "cell_type": "code",
   "execution_count": null,
   "metadata": {},
   "outputs": [],
   "source": [
    "interattoma.columns=['ID gene uscita', 'ID gene entrata', 'simbolo_uscita', 'simbolo_entrata', 'sources']\n",
    "interattoma.head(8)"
   ]
  },
  {
   "cell_type": "markdown",
   "metadata": {},
   "source": [
    "## Create dictionary which links each gene (ID) all the genes it is linked to"
   ]
  },
  {
   "cell_type": "code",
   "execution_count": null,
   "metadata": {},
   "outputs": [],
   "source": [
    "diz={}  \n",
    "for i in range (0, 141272):\n",
    "    gene_i= interattoma.loc[i,'ID gene uscita']\n",
    "    valore= interattoma.loc[i,'ID gene entrata']\n",
    "    l=[]\n",
    "    if gene_i not in diz:\n",
    "        l.append(valore)\n",
    "        diz[gene_i]= l\n",
    "    else:\n",
    "        diz[gene_i].append(valore)\n",
    "diz"
   ]
  },
  {
   "cell_type": "markdown",
   "metadata": {},
   "source": [
    "### Annotations dataset"
   ]
  },
  {
   "cell_type": "code",
   "execution_count": null,
   "metadata": {},
   "outputs": [],
   "source": [
    "annotazioni= pd.read_excel('GO_ann.xlsx')\n",
    "annotazioni.head(6)"
   ]
  },
  {
   "cell_type": "markdown",
   "metadata": {},
   "source": [
    "## Create dictionary which gives the list of annotations for each gene ID"
   ]
  },
  {
   "cell_type": "code",
   "execution_count": null,
   "metadata": {},
   "outputs": [],
   "source": [
    "diz_annotazioni={}\n",
    "for i in range (0, 165774):\n",
    "    simbolo_gene = annotazioni.iloc[i,0]\n",
    "    funzione= annotazioni.iloc[i,1]\n",
    "    lis= []\n",
    "    if simbolo_gene not in diz_annotazioni:\n",
    "        lis.append(funzione)\n",
    "        diz_annotazioni[simbolo_gene]= lis\n",
    "    else:\n",
    "        diz_annotazioni[simbolo_gene].append(funzione)\n",
    "diz_annotazioni"
   ]
  },
  {
   "cell_type": "code",
   "execution_count": null,
   "metadata": {},
   "outputs": [],
   "source": [
    "annotazioni_pulito={}  #cleaned dictionary, without any redoundancy\n",
    "for i in range (0, 165774):\n",
    "    simbolo_gene = annotazioni.iloc[i,0]\n",
    "    funzione= annotazioni.iloc[i,1]\n",
    "    lis= []\n",
    "    if simbolo_gene not in annotazioni_pulito:\n",
    "        lis.append(funzione)\n",
    "        annotazioni_pulito[simbolo_gene]= lis\n",
    "    elif simbolo_gene in annotazioni_pulito and funzione not in annotazioni_pulito[simbolo_gene] :\n",
    "        annotazioni_pulito[simbolo_gene].append(funzione)\n",
    "annotazioni_pulito"
   ]
  },
  {
   "cell_type": "code",
   "execution_count": null,
   "metadata": {},
   "outputs": [],
   "source": [
    "seeds= pd.read_excel('seeds.xlsx')\n",
    "seeds.head()"
   ]
  },
  {
   "cell_type": "markdown",
   "metadata": {},
   "source": [
    "## Associate gene's symbol to each gene ID"
   ]
  },
  {
   "cell_type": "code",
   "execution_count": null,
   "metadata": {},
   "outputs": [],
   "source": [
    "idgene_simbolo={}  #ho dizionario in cui a ogni ID di un gene ho associato il suo simbolo\n",
    "simbolo_idgene={}\n",
    "for indice in range (0,141272):\n",
    "    riga = interattoma.iloc[indice,:].values #trasforma ogni riga in lista\n",
    "    id_uscita = riga[0]  #prende la colonna in posizione 0, la prima\n",
    "    id_entrata= riga[1]\n",
    "    simbolo_uscita= riga[2] #prende collona in posiz 2\n",
    "    simbolo_entrata= riga[3]\n",
    "    if id_uscita not in idgene_simbolo:\n",
    "        idgene_simbolo[id_uscita]= simbolo_uscita\n",
    "        simbolo_idgene[simbolo_uscita]= id_uscita\n",
    "    if id_entrata not in idgene_simbolo:\n",
    "        idgene_simbolo[id_entrata]= simbolo_entrata\n",
    "        simbolo_idgene[simbolo_entrata]= id_entrata\n",
    "idgene_simbolo"
   ]
  },
  {
   "cell_type": "code",
   "execution_count": null,
   "metadata": {},
   "outputs": [],
   "source": [
    "for simbolo in annotazioni_pulito:\n",
    "    if simbolo not in simbolo_idgene:\n",
    "        simbolo_idgene[simbolo]= ''"
   ]
  },
  {
   "cell_type": "markdown",
   "metadata": {},
   "source": [
    "### Create annotazioni_pulito_id, which has the list of annotations for each gene ID"
   ]
  },
  {
   "cell_type": "code",
   "execution_count": null,
   "metadata": {},
   "outputs": [],
   "source": [
    "annotazioni_pulito  # es: 'A1BG': [24, 543, 221]\n",
    "idgene_simbolo   # es: 1: 'A1BG'\n",
    "annotazioni_pulito_id={} "
   ]
  },
  {
   "cell_type": "code",
   "execution_count": null,
   "metadata": {},
   "outputs": [],
   "source": [
    "for gene_simbolo in idgene_simbolo.values():  \n",
    "    for symbol in annotazioni_pulito.keys():  \n",
    "        if gene_simbolo== symbol:  \n",
    "            chiave_id= trova_chiave_da(idgene_simbolo, gene_simbolo)  \n",
    "            annotazioni_pulito_id[chiave_id]= annotazioni_pulito[symbol] \n",
    "annotazioni_pulito_id     "
   ]
  },
  {
   "cell_type": "code",
   "execution_count": null,
   "metadata": {},
   "outputs": [],
   "source": [
    "count_funzioni_random= count_campione_geni(random,count_funzioni_random)\n",
    "count_funzioni_random"
   ]
  },
  {
   "cell_type": "markdown",
   "metadata": {},
   "source": [
    "## Automating the whole process of creating a column based on a new random sample"
   ]
  },
  {
   "cell_type": "code",
   "execution_count": null,
   "metadata": {},
   "outputs": [],
   "source": [
    "random_sample={}\n",
    "count_funzioni_random={}\n",
    "annotaz_malattia_carboidrati={}\n",
    "dizio_count={}"
   ]
  },
  {
   "cell_type": "code",
   "execution_count": null,
   "metadata": {},
   "outputs": [],
   "source": [
    "array_seeds= seeds.iloc[:,1:].values\n",
    "array_seeds"
   ]
  },
  {
   "cell_type": "code",
   "execution_count": null,
   "metadata": {},
   "outputs": [],
   "source": [
    "lista_geni_seeds=[]\n",
    "for lista in array_seeds:\n",
    "    for gene_seed in lista:\n",
    "        if math.isnan(gene_seed)== False:\n",
    "            lista_geni_seeds.append(int(gene_seed))\n",
    "len(lista_geni_seeds)"
   ]
  },
  {
   "cell_type": "code",
   "execution_count": null,
   "metadata": {},
   "outputs": [],
   "source": [
    "series_geni_seeds= pd.Series(lista_geni_seeds)\n",
    "lista_seeds_unici= series_geni_seeds.unique()   #1536 seeds unici su 2843 in tutte le malattie (un gene puo comparire in piu)"
   ]
  },
  {
   "cell_type": "code",
   "execution_count": null,
   "metadata": {},
   "outputs": [],
   "source": [
    "series_geni_seeds.value_counts().head()"
   ]
  },
  {
   "cell_type": "markdown",
   "metadata": {},
   "source": [
    "#### number of annotations for each gene"
   ]
  },
  {
   "cell_type": "code",
   "execution_count": null,
   "metadata": {},
   "outputs": [],
   "source": [
    "dizio_annotazioni_seeds={}\n",
    "count_annotazioni_seeds={}"
   ]
  },
  {
   "cell_type": "code",
   "execution_count": null,
   "metadata": {},
   "outputs": [],
   "source": [
    "unici= list(lista_seeds_unici)"
   ]
  },
  {
   "cell_type": "code",
   "execution_count": null,
   "metadata": {},
   "outputs": [],
   "source": [
    "annotazioni_geni_unici=[]\n",
    "for gene in unici:\n",
    "    if gene in annotazioni_pulito_id:\n",
    "        for annotaz in annotazioni_pulito_id[gene]:\n",
    "            annotazioni_geni_unici.append(annotaz)"
   ]
  },
  {
   "cell_type": "code",
   "execution_count": null,
   "metadata": {},
   "outputs": [],
   "source": [
    "count_annotaz_unici={}\n",
    "for gene in annotazioni_geni_unici:\n",
    "    if gene not in count_annotaz_unici:\n",
    "        count_annotaz_unici[gene]=1      #'AGPS'\n",
    "    else:\n",
    "        count_annotaz_unici[gene]+=1"
   ]
  },
  {
   "cell_type": "code",
   "execution_count": null,
   "metadata": {},
   "outputs": [],
   "source": [
    "len(annotazioni_geni_unici)  #22976"
   ]
  },
  {
   "cell_type": "code",
   "execution_count": null,
   "metadata": {},
   "outputs": [],
   "source": [
    "count_annotaz_unici= pd.Series(count_annotaz_unici).sort_values(ascending=False)"
   ]
  },
  {
   "cell_type": "code",
   "execution_count": null,
   "metadata": {},
   "outputs": [],
   "source": [
    "tabella_annotazioni_unici= pd.DataFrame(count_annotaz_unici)\n",
    "tabella_annotazioni_unici.columns= ['count annotazione in geni seeds unici']\n",
    "tabella_annotazioni_unici.head(2)"
   ]
  },
  {
   "cell_type": "code",
   "execution_count": null,
   "metadata": {},
   "outputs": [],
   "source": [
    "diz_count_geni_seeds={}\n",
    "for gene in lista_geni_seeds:\n",
    "    if gene not in diz_count_geni_seeds:\n",
    "        diz_count_geni_seeds[gene]=1\n",
    "    else:\n",
    "        diz_count_geni_seeds[gene]+=1"
   ]
  },
  {
   "cell_type": "code",
   "execution_count": null,
   "metadata": {},
   "outputs": [],
   "source": [
    "diz_count_geni_seeds= pd.Series(diz_count_geni_seeds).sort_values(ascending=False)\n",
    "diz_count_geni_seeds= pd.DataFrame(diz_count_geni_seeds)\n",
    "diz_count_geni_seeds.columns= ['conta di ciascun gene seed']\n",
    "diz_count_geni_seeds.head(2)"
   ]
  },
  {
   "cell_type": "code",
   "execution_count": null,
   "metadata": {},
   "outputs": [],
   "source": [
    "lista_geni_senza_simbolo=[]\n",
    "for simbolo in annotazioni_pulito:\n",
    "    if simbolo not in idgene_simbolo.values():\n",
    "        lista_geni_senza_simbolo.append(simbolo)"
   ]
  },
  {
   "cell_type": "markdown",
   "metadata": {},
   "source": [
    "###### List of genes without known annotations"
   ]
  },
  {
   "cell_type": "code",
   "execution_count": null,
   "metadata": {},
   "outputs": [],
   "source": [
    "simboli_senza_annotazioni=[]\n",
    "geni_non_interagenti=[]\n",
    "for simb in simbolo_idgene:\n",
    "    if simb not in annotazioni_pulito:\n",
    "        simboli_senza_annotazioni.append(simb)\n",
    "    if simbolo_idgene[simb] == '':\n",
    "        geni_non_interagenti.append(simb)"
   ]
  },
  {
   "cell_type": "markdown",
   "metadata": {},
   "source": [
    "## Automating creation of total table where each column is the result of a random sample. Creating incidence table"
   ]
  },
  {
   "cell_type": "code",
   "execution_count": null,
   "metadata": {},
   "outputs": [],
   "source": [
    "random_sample={}\n",
    "count_funzioni_random={}\n",
    "annotaz_malattia_carboidrati={}\n",
    "dizio_count={}"
   ]
  },
  {
   "cell_type": "markdown",
   "metadata": {},
   "source": [
    "### Working on 2nd set of annotations (Pathways)"
   ]
  },
  {
   "cell_type": "code",
   "execution_count": null,
   "metadata": {},
   "outputs": [],
   "source": [
    "pathways= pd.read_excel('Pathways_KEGG.xlsx')"
   ]
  },
  {
   "cell_type": "code",
   "execution_count": null,
   "metadata": {},
   "outputs": [],
   "source": [
    "print(len(pathways))\n",
    "pathways.head()"
   ]
  },
  {
   "cell_type": "code",
   "execution_count": null,
   "metadata": {},
   "outputs": [],
   "source": [
    "pathways_array= pathways.iloc[:,:].values"
   ]
  },
  {
   "cell_type": "markdown",
   "metadata": {},
   "source": [
    "Costruisco pathways_pulito_simbolo, che associa a ogni simbolo lista dei pathways che ha"
   ]
  },
  {
   "cell_type": "markdown",
   "metadata": {},
   "source": [
    "<b> Creating incidence matrix for pathways"
   ]
  },
  {
   "cell_type": "code",
   "execution_count": null,
   "metadata": {},
   "outputs": [],
   "source": [
    "pathways_pulito_simbolo={}  \n",
    "for riga in pathways_array:\n",
    "    pathway = riga[0]\n",
    "    lista_geni_pathway= list(riga[1:])\n",
    "    for simbolo in lista_geni_pathway:\n",
    "        lis=[]\n",
    "        if simbolo not in pathways_pulito_simbolo:\n",
    "            lis.append(pathway)\n",
    "            pathways_pulito_simbolo[simbolo]= lis\n",
    "        elif simbolo in pathways_pulito_simbolo and pathway not in pathways_pulito_simbolo[simbolo]:\n",
    "            pathways_pulito_simbolo[simbolo].append(pathway)\n",
    "pathways_pulito_simbolo"
   ]
  },
  {
   "cell_type": "code",
   "execution_count": null,
   "metadata": {},
   "outputs": [],
   "source": [
    "len(pathways_pulito_simbolo)\n",
    "simboli_pathways_no_interat=[]\n",
    "for simbolo in pathways_pulito_simbolo:\n",
    "    if simbolo not in idgene_simbolo.values():\n",
    "        simboli_pathways_no_interat.append(simbolo)"
   ]
  },
  {
   "cell_type": "code",
   "execution_count": null,
   "metadata": {},
   "outputs": [],
   "source": [
    "len(simboli_pathways_no_interat)"
   ]
  },
  {
   "cell_type": "code",
   "execution_count": null,
   "metadata": {},
   "outputs": [],
   "source": [
    "ufficiale_simbolo_id= simbolo_idgene   \n",
    "simboli_solo_in_pathways=[]            \n",
    "for simb in pathways_pulito_simbolo:\n",
    "    if simb not in ufficiale_simbolo_id:\n",
    "        ufficiale_simbolo_id[simb]=''  \n",
    "        simboli_solo_in_pathways.append(simb)"
   ]
  },
  {
   "cell_type": "markdown",
   "metadata": {},
   "source": [
    "## Creating complete Interactome dictionary"
   ]
  },
  {
   "cell_type": "code",
   "execution_count": null,
   "metadata": {},
   "outputs": [],
   "source": [
    "interattoma_completo= diz\n",
    "len(diz)"
   ]
  },
  {
   "cell_type": "code",
   "execution_count": null,
   "metadata": {},
   "outputs": [],
   "source": [
    "for i in range (0, 141272):\n",
    "    gene_uscita= interattoma.loc[i,'ID gene uscita']\n",
    "    gene_entrata= interattoma.loc[i,'ID gene entrata']\n",
    "    l=[]\n",
    "    if gene_entrata not in interattoma_completo:\n",
    "        l.append(gene_uscita)\n",
    "        interattoma_completo[gene_entrata]= l\n",
    "    else:\n",
    "        if gene_uscita not in interattoma_completo[gene_entrata]:\n",
    "            interattoma_completo[gene_entrata].append(gene_uscita)\n",
    "len(interattoma_completo) "
   ]
  },
  {
   "cell_type": "markdown",
   "metadata": {},
   "source": [
    "## Faccio ufficiale_simbolo_id, arricchendo con nuovi simboli che compaiono nei pathways"
   ]
  },
  {
   "cell_type": "code",
   "execution_count": null,
   "metadata": {},
   "outputs": [],
   "source": [
    "diz={}  \n",
    "for i in range (0, 141272):\n",
    "    gene_i= interattoma.loc[i,'ID gene uscita']\n",
    "    valore= interattoma.loc[i,'ID gene entrata']\n",
    "    l=[]\n",
    "    if gene_i not in diz:\n",
    "        l.append(valore)\n",
    "        diz[gene_i]= l\n",
    "    else:\n",
    "        diz[gene_i].append(valore)\n",
    "len(diz)"
   ]
  },
  {
   "cell_type": "code",
   "execution_count": null,
   "metadata": {},
   "outputs": [],
   "source": [
    "idgene_simbolo.pop(4663)  #lo tolgo perchè non ha un simbolo, è stato cambiato con 7504 che già esiste separatamente..l'ho sgamato dai vari errori che mi dava python.."
   ]
  },
  {
   "cell_type": "markdown",
   "metadata": {},
   "source": [
    "# <center> Choosing the disease to analyze"
   ]
  },
  {
   "cell_type": "code",
   "execution_count": null,
   "metadata": {},
   "outputs": [],
   "source": [
    "disease_name= 'carbohydrate metabolism inborn errors'\n",
    "\n",
    "ulcer = seeds[seeds['Diseases']== disease_name]\n",
    "ulcer"
   ]
  },
  {
   "cell_type": "code",
   "execution_count": null,
   "metadata": {},
   "outputs": [],
   "source": [
    "ulcer = seeds.iloc[18].dropna()\n",
    "print(len(ulcer))\n",
    "ulcer.head() "
   ]
  },
  {
   "cell_type": "code",
   "execution_count": null,
   "metadata": {},
   "outputs": [],
   "source": [
    "geni_ulcer= []   \n",
    "for gene in ulcer:\n",
    "    if gene != 'carbohydrate metabolism inborn errors':\n",
    "        geni_ulcer.append(gene)\n",
    "len(geni_ulcer)"
   ]
  },
  {
   "cell_type": "code",
   "execution_count": null,
   "metadata": {},
   "outputs": [],
   "source": [
    "len(idgene_simbolo) #13457 giusto"
   ]
  },
  {
   "cell_type": "code",
   "execution_count": null,
   "metadata": {},
   "outputs": [],
   "source": [
    "dizio_count={}\n",
    "annotazioni_ulcer={}  \n",
    "annotaz_ulcer = diz_annotazioni_da_lista(annotazioni_ulcer, geni_ulcer, dizio_count, 'count annotazioni in ulcer')"
   ]
  },
  {
   "cell_type": "code",
   "execution_count": null,
   "metadata": {},
   "outputs": [],
   "source": [
    "filtro_interattoma_ulcer=[gene for gene in idgene_simbolo if gene not in geni_ulcer]  "
   ]
  },
  {
   "cell_type": "code",
   "execution_count": null,
   "metadata": {},
   "outputs": [],
   "source": [
    "len(filtro_interattoma_ulcer)"
   ]
  },
  {
   "cell_type": "code",
   "execution_count": null,
   "metadata": {},
   "outputs": [],
   "source": [
    "diz_vuoto={}\n",
    "dizio_count={}\n",
    "media_ann1000_ulcer= media_tab_random (tabella_random_id(diz_vuoto, dizio_count, 56, 1000, filtro_interattoma_ulcer),1000)"
   ]
  },
  {
   "cell_type": "code",
   "execution_count": null,
   "metadata": {},
   "outputs": [],
   "source": [
    "confronto_10ulcer_random= annotaz_ulcer.join(media_ann1000_ulcer).head(10)\n",
    "confronto_10ulcer_random"
   ]
  },
  {
   "cell_type": "code",
   "execution_count": null,
   "metadata": {},
   "outputs": [],
   "source": [
    "confronto_10random_ulcer= media_ann1000_ulcer.join(annotaz_ulcer).head(10)\n",
    "top_20_ulcer= lista_n_annotazioni(media_ann1000_ulcer, annotaz_ulcer,10,10)"
   ]
  },
  {
   "cell_type": "code",
   "execution_count": null,
   "metadata": {},
   "outputs": [],
   "source": [
    "top_15_ulcer= list(pd.Series(top_20_ulcer).value_counts().index)\n",
    "len(togli_annot_ridondanti(top_15_ulcer))"
   ]
  },
  {
   "cell_type": "code",
   "execution_count": null,
   "metadata": {},
   "outputs": [],
   "source": [
    "temp= []\n",
    "geni_con_top_ann_ulcer = geni_con_top_annotazioni(temp ,top_15_ulcer)"
   ]
  },
  {
   "cell_type": "code",
   "execution_count": null,
   "metadata": {},
   "outputs": [],
   "source": [
    "simboli_geni_ulcer=[]\n",
    "for idgene in geni_ulcer:\n",
    "    if idgene_simbolo[idgene] not in simboli_geni_ulcer: \n",
    "        simboli_geni_ulcer.append(idgene_simbolo[idgene])\n",
    "len(simboli_geni_ulcer)"
   ]
  },
  {
   "cell_type": "code",
   "execution_count": null,
   "metadata": {},
   "outputs": [],
   "source": [
    "filtro_pathways_ulcer =[]\n",
    "for simbolo in pathways_pulito_simbolo:\n",
    "        if simbolo not in simboli_geni_ulcer and simbolo not in filtro_pathways_ulcer:\n",
    "            filtro_pathways_ulcer.append(simbolo)\n",
    "len(filtro_pathways_ulcer)"
   ]
  },
  {
   "cell_type": "code",
   "execution_count": null,
   "metadata": {},
   "outputs": [],
   "source": [
    "id_simboli_ulcer={}\n",
    "for geneid in geni_ulcer:\n",
    "    if geneid in idgene_simbolo:\n",
    "        id_simboli_ulcer[geneid]= idgene_simbolo[geneid]\n",
    "len(id_simboli_ulcer)"
   ]
  },
  {
   "cell_type": "code",
   "execution_count": null,
   "metadata": {},
   "outputs": [],
   "source": [
    "diz_pathways_ulcer= {}\n",
    "for riga in pathways_array:  \n",
    "    for simbolo in riga:    \n",
    "        if simbolo in id_simboli_ulcer.values(): \n",
    "            if simbolo not in diz_pathways_ulcer:  \n",
    "                diz_pathways_ulcer[simbolo]= [riga[0]]\n",
    "            if simbolo in diz_pathways_ulcer and riga[0] not in diz_pathways_ulcer[simbolo]:\n",
    "                diz_pathways_ulcer[simbolo].append(riga[0])"
   ]
  },
  {
   "cell_type": "code",
   "execution_count": null,
   "metadata": {},
   "outputs": [],
   "source": [
    "ulcer34_con_pat = list(diz_pathways_ulcer.keys()) \n",
    "len(ulcer34_con_pat)"
   ]
  },
  {
   "cell_type": "code",
   "execution_count": null,
   "metadata": {},
   "outputs": [],
   "source": [
    "count_pathways_ulcer={}\n",
    "for lista in diz_pathways_ulcer.values():\n",
    "    for pathway in lista:\n",
    "        if pathway not in count_pathways_ulcer:\n",
    "            count_pathways_ulcer[pathway]=1\n",
    "        else:\n",
    "            count_pathways_ulcer[pathway]+=1\n",
    "count_pathways_ulcer= tabella_da_diz(count_pathways_ulcer)\n",
    "count_pathways_ulcer.columns= ['Count annotaz pathways nei geni ulcer']"
   ]
  },
  {
   "cell_type": "code",
   "execution_count": null,
   "metadata": {},
   "outputs": [],
   "source": [
    "diz_vuoto={}\n",
    "dizio_count={}\n",
    "path_1000_34= tabella_random_pathways (diz_vuoto, dizio_count, 34, 1000, filtro_pathways_ulcer)"
   ]
  },
  {
   "cell_type": "code",
   "execution_count": null,
   "metadata": {},
   "outputs": [],
   "source": [
    "media_path_1000_34= media_tab_random_pathways(path_1000_34, 1000)"
   ]
  },
  {
   "cell_type": "code",
   "execution_count": null,
   "metadata": {},
   "outputs": [],
   "source": [
    "top_6_pathways_ulcer= lista_n_annotazioni(media_path_1000_34, count_pathways_ulcer, 3,3)"
   ]
  },
  {
   "cell_type": "code",
   "execution_count": null,
   "metadata": {},
   "outputs": [],
   "source": [
    "top_6_pathways_ulcer= list(pd.Series(top_6_pathways_ulcer).unique())\n",
    "len(top_6_pathways_ulcer)"
   ]
  },
  {
   "cell_type": "code",
   "execution_count": null,
   "metadata": {},
   "outputs": [],
   "source": [
    "l=[]\n",
    "geni_top_6_pathw_ulcer= geni_con_top_pathways(l,top_6_pathways_ulcer)\n",
    "geni_top_6_pathw_ulcer= list(pd.Series(geni_top_6_pathw_ulcer).dropna())\n",
    "len(geni_top_6_pathw_ulcer)"
   ]
  },
  {
   "cell_type": "code",
   "execution_count": null,
   "metadata": {},
   "outputs": [],
   "source": [
    "\"\"\"Queste erano quando avevo lasciato un crohn nell analisi di alz--> ['CYTOKINE_CYTOKINE_RECEPTOR_INTERACTION',\n",
    " 'JAK_STAT_SIGNALING_PATHWAY',\n",
    " 'PATHWAYS_IN_CANCER',\n",
    " 'OLFACTORY_TRANSDUCTION']\"\"\"\n",
    "\n",
    "top_6_pathways_ulcer"
   ]
  },
  {
   "cell_type": "code",
   "execution_count": null,
   "metadata": {},
   "outputs": [],
   "source": [
    "incidenza_ann_ulcer={}\n",
    "incidenza_ann_ulcer= dizio_vettori_incidenza (incidenza_ann_ulcer, geni_con_top_ann_ulcer,top_15_ulcer )\n",
    "incidenza_ann_ulcer.head(2)"
   ]
  },
  {
   "cell_type": "code",
   "execution_count": null,
   "metadata": {},
   "outputs": [],
   "source": [
    "d={}\n",
    "incidenza_6pat_ulcer= dizio_vettori_incidenza_pathways(d, geni_top_6_pathw_ulcer, top_6_pathways_ulcer )\n",
    "incidenza_6pat_ulcer.head()"
   ]
  },
  {
   "cell_type": "code",
   "execution_count": null,
   "metadata": {},
   "outputs": [],
   "source": [
    "count_putative_ulcer={}\n",
    "count_putative_seeds_ulcer= {}\n",
    "count_putative_ulcer['analisi fatte']=0\n",
    "count_putative_seeds_ulcer['analisi fatte']=0\n",
    "\n",
    "\n",
    "firstneig_913ulcer= []\n",
    "for nodo in geni_ulcer:\n",
    "    for adiacente in interattoma_completo[nodo]:\n",
    "        if adiacente not in firstneig_913ulcer:\n",
    "            firstneig_913ulcer.append(adiacente)\n",
    "print(len(firstneig_913ulcer))"
   ]
  },
  {
   "cell_type": "markdown",
   "metadata": {},
   "source": [
    "<h1> <center> Annotation Driven Clustering Method </center> </h1> \n",
    "<h3> Phase 1: from generation on N (1000) random samples, to the all clustering processes performed both based on annotations and on pathways </h3> <br>\n",
    "\n",
    "<h3> Phase 2: For each analysis, it is chosen the optimal number of clusters as the one having more seed genes of the disease, with the constraint of keeping at least 90% of the initial (that is currently known) genes of the disease. \n",
    "Again, this is done both according to annotations and pathways; the two optimal clusters are then intersected to obtain a set of putative seed genes or, in other words, the new genes predicted to be seeds. </h3> "
   ]
  },
  {
   "cell_type": "markdown",
   "metadata": {},
   "source": [
    "### Phase 1"
   ]
  },
  {
   "cell_type": "code",
   "execution_count": null,
   "metadata": {},
   "outputs": [],
   "source": [
    "#os.chdir('C:\\\\Users\\\\feder\\\\jupyter\\\\tesi network medicine')\n",
    "#os.mkdir('colite ulcerosa')\n",
    "os.chdir('C:\\\\Users\\\\feder\\\\jupyter\\\\tesi network medicine\\\\colite ulcerosa')"
   ]
  },
  {
   "cell_type": "code",
   "execution_count": null,
   "metadata": {},
   "outputs": [],
   "source": [
    "min_n_clusters= 2\n",
    "max_n_clusters= 6\n",
    "\n",
    "for j in range(1,101): #I decide how many analysis to make\n",
    "    print('analisi n°'+str(j))\n",
    "    writer = pd.ExcelWriter('CV'+ str(j) +' 20 ann 6 path ulcer.xlsx')\n",
    "    random={}\n",
    "    dizio_count={}\n",
    "    cv_count_ann=tabella_da_diz(count_campione_geni(campione_simboli_random(random, 40, simboli_geni_ulcer),dizio_count))\n",
    "    cv_count_ann.columns=['count annot in CV7']\n",
    "    #pd.DataFrame(list(random.keys())).to_excel(writer,'max 50 simboli ulcer') \n",
    "    #cv7_count_ann.to_excel(writer,'conta di ciascuna annotazione')  \n",
    "    random_sample={}\n",
    "    count_funzioni_random={}\n",
    "    cv_top20_ann= togli_annot_ridondanti(lista_n_annotazioni(\n",
    "    media_tab_random(\n",
    "    tabella_random_id(random_sample, count_funzioni_random, 40, 1000, filtro_interattoma_ulcer), 1000), cv_count_ann, 10, 10))\n",
    "    \n",
    "    cv_top20_ann_def= []\n",
    "    for ann in cv_top20_ann:\n",
    "        if ann not in cv_top20_ann_def:\n",
    "            cv_top20_ann_def.append(ann)\n",
    "    len(cv_top20_ann_def)\n",
    "    #pd.DataFrame(cv_top20_ann_def).to_excel(writer,'max 20 annotaz top')\n",
    "    \n",
    "    cv_simboli_tot=[]\n",
    "    cv_id_tot=[]\n",
    "    cv_simboli_tot= simboli_con_top_annotazioni(cv_simboli_tot, cv_top20_ann)\n",
    "    pd.DataFrame(cv_simboli_tot).to_excel(writer,'simboli top')\n",
    "    for simb in cv_simboli_tot:\n",
    "        if simbolo_idgene[simb] in idgene_simbolo:\n",
    "            cv_id_tot.append(simbolo_idgene[simb])\n",
    "    #pd.DataFrame(cv_id_tot).to_excel(writer,'geni id top')\n",
    "    print('geni della malattia: ')\n",
    "    print(conta_id_in_lista(cv_id_tot, geni_ulcer))\n",
    "    \n",
    "    cv_incidenza={}\n",
    "    cv_incidenza= dizio_vettori_incidenza(cv_incidenza, cv_id_tot, cv_top20_ann)\n",
    "    #cv_incidenza.to_excel(writer, 'mat incidenza')\n",
    "    #print(cv11_incidenza.head(2))\n",
    "    for n in range (min_n_clusters, max_n_clusters):  #decido quanti clusters fare\n",
    "        print('N=',n)\n",
    "        cv_kmeans= KMeans(n_clusters= n, init='k-means++').fit(cv_incidenza)\n",
    "        cv_cluster_n= pd.DataFrame()\n",
    "        cv_cluster_n['idgene'] = cv_incidenza.index.values\n",
    "        cv_cluster_n['cluster'] = cv_kmeans.labels_\n",
    "        if n<=3:\n",
    "            print(uff_resoconto_seeds_cluster(cv_cluster_n, 4, 0, geni_ulcer))\n",
    "        else:\n",
    "            print(uff_resoconto_seeds_cluster(cv_cluster_n, 10, 1, geni_ulcer))\n",
    "        cv_cluster_n.to_excel(writer, 'cluster n'+str(n))\n",
    "        \n",
    "    print('Analisi sui Pathways') #finita l'analisi i-esima per le annotazioni, faccio la i-esima per i pathways\n",
    "    random={}\n",
    "    dizio_count={}\n",
    "    cv_6pat_count_ann= tabella_random_pathways(random, dizio_count, 24, 1, ulcer34_con_pat)\n",
    "    random_sample={}\n",
    "    count_funzioni_random={}\n",
    "    cv_top6_pat= togli_annot_ridondanti(\n",
    "    lista_n_annotazioni(\n",
    "    media_tab_random_pathways(\n",
    "    tabella_random_pathways(random_sample, count_funzioni_random, 24, 1000, filtro_pathways_ulcer), 1000), cv_6pat_count_ann, 3,3))\n",
    "    \n",
    "    cv_top6_pat_def= []\n",
    "    for pat in cv_top6_pat:\n",
    "        if pat not in cv_top6_pat_def:\n",
    "            cv_top6_pat_def.append(pat)\n",
    "    #pd.DataFrame(cv_top6_pat_def).to_excel(writer,'max 6 pathways top')\n",
    "\n",
    "    cv_6pat_simboli_tot=[]\n",
    "    cv_6pat_simboli_tot= togli_nan_da_lista_simboli(\n",
    "        togli_annot_ridondanti(geni_con_top_pathways(cv_6pat_simboli_tot, cv_top6_pat)))\n",
    "    pd.DataFrame(cv_6pat_simboli_tot).to_excel(writer,'simb top')\n",
    "    \n",
    "    print('geni della malattia: ')\n",
    "    print(conta_simboli_in_lista(cv_6pat_simboli_tot, geni_ulcer))\n",
    "    cv_6pat_incidenza={}\n",
    "    cv_6pat_incidenza= dizio_vettori_incidenza_pathways(cv_6pat_incidenza, cv_6pat_simboli_tot, cv_top6_pat)\n",
    "    #cv_6pat_incidenza.to_excel(writer, 'mat incidenza')\n",
    "\n",
    "    for n in range (2,4): #decido quanti clusters fare per ogni analisi\n",
    "        print('N=',n)\n",
    "        cv_6pat_kmeans= KMeans(n_clusters= n, init='k-means++').fit(cv_6pat_incidenza)\n",
    "        cv_6pat_cluster= pd.DataFrame()\n",
    "        cv_6pat_cluster['simbolo gene'] = cv_6pat_incidenza.index.values\n",
    "        cv_6pat_cluster['cluster'] = cv_6pat_kmeans.labels_\n",
    "        cv_6pat_cluster.to_excel(writer, 'cluspat n'+str(n))\n",
    "        if n<=3:\n",
    "            print(resoconto_seeds_cluster_pat(cv_6pat_cluster, 4, 0, geni_ulcer))\n",
    "        else:\n",
    "            print(resoconto_seeds_cluster_pat(cv_6pat_cluster, 10, 0, geni_ulcer))\n",
    "    \n",
    "    #SCELTA DEL CLUSTER OTTIMO la faccio fuori, perchè si può fare solo una volta che viene chiuso il file excel.\n",
    "    writer.save()\n",
    "    writer.close()\n",
    "    print('\\n')    \n",
    "    print('\\n')"
   ]
  },
  {
   "cell_type": "markdown",
   "metadata": {},
   "source": [
    "# Phase 2"
   ]
  },
  {
   "cell_type": "code",
   "execution_count": null,
   "metadata": {},
   "outputs": [],
   "source": [
    "min_n_clusters= 2\n",
    "max_n_clusters= 6\n",
    "\n",
    "for n_analisi in range(91,92):  #For each analysis done (and saved in Excel)\n",
    "    print('ANALISI NUMERO: ', n_analisi)\n",
    "    simboli_top= list(pd.read_excel('CV' + str(n_analisi)+ ' 20 ann 6 path ulcer.xlsx', sheet_name= 'simboli top').squeeze())\n",
    "    tot_seeds_malattia= quanti_seed_simb_tot(simboli_top, geni_ulcer)\n",
    "    k_best=2 \n",
    "    best_rapporto= 0\n",
    "\n",
    "    best_group= pd.read_excel('CV' + str(n_analisi)+ ' 20 ann 6 path ulcer.xlsx', sheet_name= 'cluster n'+ str(k_best)) \n",
    "    for k in range(2,4): \n",
    "        for gruppo in range(0,k):  \n",
    "            group= pd.read_excel('CV' + str(n_analisi)+ ' 20 ann 6 path ulcer.xlsx', sheet_name= 'cluster n'+ str(k)) \n",
    "            group= list(group [group['cluster']== gruppo]['idgene'])\n",
    "            if rapporto_idseeds_gruppo(group, geni_ulcer)> best_rapporto and quanti_seed_totali(\n",
    "                group, geni_ulcer)>= 0.70 * tot_seeds_malattia:\n",
    "                best_rapporto= rapporto_idseeds_gruppo(group, geni_ulcer)\n",
    "                best_group= group\n",
    "                k_best= k\n",
    "                print('il best rapporto è cambiato a: ', best_rapporto, 'e il best cluster è: ', k_best, ',best gruppo:', gruppo)\n",
    "    \n",
    "    print('\\n')\n",
    "    print('tot seeds sono: ', tot_seeds_malattia)\n",
    "    print('il best cluster è: ', k_best)\n",
    "    \n",
    "    print('ora per pathways')\n",
    "    \n",
    "    simb_top_pat= list(pd.read_excel('CV' + str(n_analisi)+ ' 20 ann 6 path ulcer.xlsx', sheet_name= 'simb top').squeeze())\n",
    "    tot_seeds_pat= quanti_seed_simb_tot(simb_top_pat, geni_ulcer)\n",
    "    print('tot seeds sono: ', tot_seeds_pat)\n",
    "    k_best_pat=3 \n",
    "    best_rapporto_pat= 0\n",
    "    best_group_pat= pd.read_excel('CV' + str(n_analisi)+ ' 20 ann 6 path ulcer.xlsx', sheet_name= 'cluspat n'+ str(k_best_pat)) \n",
    "    for kpat in range(2,4): \n",
    "        for gruppo_pat in range(0,kpat):  \n",
    "            group_pat= pd.read_excel('CV' + str(n_analisi)+ ' 20 ann 6 path ulcer.xlsx', sheet_name= 'cluspat n'+ str(kpat)) \n",
    "            group_pat= list(group_pat [group_pat['cluster']== gruppo_pat]['simbolo gene'])\n",
    "            if rapporto_simbseeds_gruppo(group_pat, geni_ulcer)> best_rapporto_pat and quanti_seed_simb_tot(group_pat, geni_ulcer)>= 0.73 * tot_seeds_pat:\n",
    "                best_rapporto_pat= rapporto_simbseeds_gruppo(group_pat, geni_ulcer)\n",
    "                best_rapporto_pat= rapporto_simbseeds_gruppo(group_pat, geni_ulcer)\n",
    "                best_group_pat= group_pat\n",
    "                k_best_pat= kpat\n",
    "                print('il best rapporto è cambiato a: ', best_rapporto_pat, 'e il best cluster è: ', k_best_pat, ',best gruppo:', gruppo_pat)\n",
    "\n",
    "    print('\\n')\n",
    "    print('il best cluster è: ', k_best_pat)\n",
    "    \n",
    "    simb_comuni_cv= []\n",
    "    confronto_13_bests(best_group, best_group_pat, geni_ulcer, simb_comuni_cv)\n",
    "    \n",
    "    cv_simboli_nocarbo=[]\n",
    "    cv_simboli_carbo=[]\n",
    "    cv_idgeni_carbo=[]\n",
    "    for simbolo in simb_comuni_cv:\n",
    "        if simbolo in simboli_geni_ulcer:\n",
    "            cv_simboli_carbo.append(simbolo)\n",
    "            cv_idgeni_carbo.append(simbolo_idgene[simbolo])\n",
    "        else:\n",
    "            cv_simboli_nocarbo.append(simbolo)\n",
    "\n",
    "    CV_13_putative=[]\n",
    "    CV_13_putative_seeds=[]\n",
    "    for idgene in firstneig_913ulcer: \n",
    "        if math.isnan(idgene)== False:\n",
    "            if idgene_simbolo[idgene] in cv_simboli_nocarbo:\n",
    "                if idgene not in lista_seeds_unici:\n",
    "                    CV_13_putative.append(idgene_simbolo[idgene])\n",
    "                else:\n",
    "                    CV_13_putative_seeds.append(idgene_simbolo[idgene])\n",
    "    print('ci sono',len(CV_13_putative),'candidati sconosciuti che sono:',\n",
    "          CV_13_putative, 'mentre', len(CV_13_putative_seeds),'sono candidati ma rossi: ',CV_13_putative_seeds)\n",
    "    \n",
    "    for gene in CV_13_putative_seeds:  \n",
    "        if gene not in count_putative_seeds_ulcer:   \n",
    "            count_putative_seeds_ulcer[gene]=1\n",
    "        else:\n",
    "            count_putative_seeds_ulcer[gene]+=1\n",
    "    for gene in CV_13_putative: \n",
    "        if gene not in count_putative_ulcer:\n",
    "            count_putative_ulcer[gene]=1\n",
    "        else:\n",
    "            count_putative_ulcer[gene]+=1\n",
    "    count_putative_seeds_ulcer['analisi fatte']+=1\n",
    "    count_putative_ulcer['analisi fatte']+=1\n",
    "    \n",
    "    \n",
    "    \"\"\"writer = pd.ExcelWriter('CV' + str(n_analisi)+'intersezioni ulcer.xlsx')\n",
    "    pd.DataFrame(pd.Series(simb_comuni_cv)).to_excel(writer, 'simboli comuni')\n",
    "    pd.DataFrame(cv_simboli_nocarbo).to_excel(writer, 'comuni non ulcer')\n",
    "    pd.DataFrame(CV_13_putative).to_excel(writer, 'putative normali')\n",
    "    pd.DataFrame(CV_13_putative_seeds).to_excel(writer, 'putative rossi')\n",
    "    writer.save()\n",
    "    writer.close()\"\"\""
   ]
  },
  {
   "cell_type": "markdown",
   "metadata": {},
   "source": [
    "### The whole analysis so far was based on datasets of 2013; with the above clustering process, some putative seed genes have been predicted. \n",
    "### Considering a more recent dataset (Disgenet) we can now have the 'labels' and find out which of them was actually found out to be seed"
   ]
  },
  {
   "cell_type": "code",
   "execution_count": null,
   "metadata": {},
   "outputs": [],
   "source": [
    "put_seeds_ulcer= pd.DataFrame(pd.Series(count_putative_seeds_ulcer).sort_values(ascending= False))\n",
    "simb_25put_seeds_ulcer= list(put_seeds_ulcer[put_seeds_ulcer[0] > 39].iloc[1:].index) #\n",
    "len(simb_25put_seeds_ulcer)"
   ]
  },
  {
   "cell_type": "code",
   "execution_count": null,
   "metadata": {},
   "outputs": [],
   "source": [
    "put_ulcer = pd.DataFrame(pd.Series(count_putative_ulcer).sort_values(ascending= False))\n",
    "simb_49put_ulcer= list(put_ulcer[put_ulcer[0] > 40].iloc[1:].index)\n",
    "len(simb_49put_ulcer)"
   ]
  },
  {
   "cell_type": "code",
   "execution_count": null,
   "metadata": {},
   "outputs": [],
   "source": [
    "os.chdir('C:\\\\Users\\\\feder\\\\jupyter\\\\tesi network medicine')\n",
    "diseasome= pd.read_excel('new diseasome.xlsx')\n",
    "copia_dis= diseasome\n",
    "def lower(stringa):\n",
    "    return stringa.lower()\n",
    "\n",
    "def iniziale_stringa (stringa, parte_iniziale):\n",
    "    if stringa== parte_iniziale + stringa[len(parte_iniziale):] :\n",
    "        return True\n",
    "    \n",
    "def parola_in_stringa (stringa, parola):\n",
    "    if parola in stringa:\n",
    "        return True\n",
    "\n",
    "copia_dis['diseaseName']= copia_dis['diseaseName'].apply(lambda x: lower(x))"
   ]
  },
  {
   "cell_type": "code",
   "execution_count": null,
   "metadata": {},
   "outputs": [],
   "source": [
    "sottoclassi_ulcer = list(pd.Series(copia_dis[copia_dis['diseaseName'].apply(lambda x: parola_in_stringa(x,'ulcerative colitis'))== True]['diseaseName']).value_counts().index)"
   ]
  },
  {
   "cell_type": "code",
   "execution_count": null,
   "metadata": {},
   "outputs": [],
   "source": [
    "\"\"\" Vediamo se qualcuno dei 25 seeds risulta provocare una di queste sottoclassi \"\"\"\n",
    "validati_seed_ulcer={}\n",
    "for put_seed in simb_25put_seeds_ulcer:\n",
    "    righe_gene= diseasome[diseasome['geneSymbol']== put_seed]\n",
    "    for malattia in sottoclassi_ulcer:\n",
    "        if len(righe_gene[righe_gene['diseaseName']== malattia])>0:\n",
    "            print('dajeeeee col gene: ', put_seed , ' e nome malattia', malattia)\n",
    "            if put_seed not in validati_seed_ulcer:\n",
    "                validati_seed_ulcer[put_seed]= [malattia]\n",
    "            else:\n",
    "                validati_seed_ulcer[put_seed].append(malattia)\n",
    "print(len(validati_seed_ulcer), 'seeds putative, su',  len(simb_25put_seeds_ulcer))"
   ]
  },
  {
   "cell_type": "code",
   "execution_count": null,
   "metadata": {
    "scrolled": true
   },
   "outputs": [],
   "source": [
    "validati_put_ulcer={}\n",
    "for put_seed in simb_49put_ulcer:\n",
    "    righe_gene= diseasome[diseasome['geneSymbol']== put_seed]\n",
    "    for malattia in sottoclassi_ulcer:\n",
    "        if len(righe_gene[righe_gene['diseaseName']== malattia])>0:\n",
    "            print('dajeeeee col gene: ', put_seed , ' e nome malattia', malattia)\n",
    "            if put_seed not in validati_put_ulcer:\n",
    "                validati_put_ulcer[put_seed]= [malattia]\n",
    "            else:\n",
    "                validati_put_ulcer[put_seed].append(malattia)\n",
    "len(validati_put_ulcer), 'putative, su',  len(simb_49put_ulcer)"
   ]
  }
 ],
 "metadata": {
  "kernelspec": {
   "display_name": "Python 3",
   "language": "python",
   "name": "python3"
  },
  "language_info": {
   "codemirror_mode": {
    "name": "ipython",
    "version": 3
   },
   "file_extension": ".py",
   "mimetype": "text/x-python",
   "name": "python",
   "nbconvert_exporter": "python",
   "pygments_lexer": "ipython3",
   "version": "3.7.6"
  }
 },
 "nbformat": 4,
 "nbformat_minor": 2
}
